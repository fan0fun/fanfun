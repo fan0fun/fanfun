{
 "cells": [
  {
   "cell_type": "code",
   "execution_count": 1,
   "id": "2dcf0657",
   "metadata": {},
   "outputs": [],
   "source": [
    "def tambah(a,b):\n",
    "    hasil = a+b\n",
    "    return hasil"
   ]
  },
  {
   "cell_type": "code",
   "execution_count": 2,
   "id": "a56c35ef",
   "metadata": {},
   "outputs": [],
   "source": [
    "x1 = tambah(2,3)"
   ]
  },
  {
   "cell_type": "code",
   "execution_count": 3,
   "id": "11d6ca61",
   "metadata": {},
   "outputs": [
    {
     "data": {
      "text/plain": [
       "5"
      ]
     },
     "execution_count": 3,
     "metadata": {},
     "output_type": "execute_result"
    }
   ],
   "source": [
    "x1"
   ]
  },
  {
   "cell_type": "code",
   "execution_count": 4,
   "id": "3d134662",
   "metadata": {},
   "outputs": [],
   "source": [
    "x2 = tambah(7,4)"
   ]
  },
  {
   "cell_type": "code",
   "execution_count": 5,
   "id": "357841c1",
   "metadata": {},
   "outputs": [
    {
     "data": {
      "text/plain": [
       "11"
      ]
     },
     "execution_count": 5,
     "metadata": {},
     "output_type": "execute_result"
    }
   ],
   "source": [
    "x2"
   ]
  },
  {
   "cell_type": "code",
   "execution_count": 6,
   "id": "59af212e",
   "metadata": {},
   "outputs": [
    {
     "data": {
      "text/plain": [
       "-6"
      ]
     },
     "execution_count": 6,
     "metadata": {},
     "output_type": "execute_result"
    }
   ],
   "source": [
    "x1-x2"
   ]
  },
  {
   "cell_type": "code",
   "execution_count": null,
   "id": "37e0108c",
   "metadata": {},
   "outputs": [],
   "source": []
  }
 ],
 "metadata": {
  "kernelspec": {
   "display_name": "Python 3",
   "language": "python",
   "name": "python3"
  },
  "language_info": {
   "codemirror_mode": {
    "name": "ipython",
    "version": 3
   },
   "file_extension": ".py",
   "mimetype": "text/x-python",
   "name": "python",
   "nbconvert_exporter": "python",
   "pygments_lexer": "ipython3",
   "version": "3.8.8"
  }
 },
 "nbformat": 4,
 "nbformat_minor": 5
}
